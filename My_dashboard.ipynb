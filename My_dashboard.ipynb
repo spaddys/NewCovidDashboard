{
 "cells": [
  {
   "cell_type": "markdown",
   "id": "a92a584d-a954-4c2f-a5b2-88be9b069e76",
   "metadata": {},
   "source": [
    "## Covid19 Dashboard"
   ]
  },
  {
   "cell_type": "code",
   "execution_count": 5,
   "id": "5dccab74-c735-4099-97c2-fbc9c05f0f6f",
   "metadata": {},
   "outputs": [],
   "source": [
    "from IPython.display import clear_output\n",
    "import ipywidgets as wdg\n",
    "import pandas as pd\n",
    "import numpy as np\n",
    "import matplotlib.pyplot as plt\n",
    "import json\n",
    "from uk_covid19 import Cov19API"
   ]
  },
  {
   "cell_type": "code",
   "execution_count": 6,
   "id": "eb52499e-69e8-4458-a5a0-5741f9ee0844",
   "metadata": {},
   "outputs": [],
   "source": [
    "%matplotlib inline\n",
    "# make figures larger\n",
    "plt.rcParams['figure.dpi'] = 100"
   ]
  },
  {
   "cell_type": "markdown",
   "id": "327ace7f-ff70-458a-8137-15e906c5112c",
   "metadata": {},
   "source": [
    "## PHE Data\n",
    "This data comes from the Public Health England database. \n",
    "It contains the following pieces of information:\n",
    "New Cases By Specimen Date\n",
    "Cumulative Cases By Specimen Date\n",
    "New Cases PCR Only By Specimen Date\n",
    "Cumulative PCR Tests By Specimen Date"
   ]
  },
  {
   "cell_type": "code",
   "execution_count": 35,
   "id": "48ddbc73-df59-4267-acee-2220a4c80224",
   "metadata": {},
   "outputs": [
    {
     "name": "stdout",
     "output_type": "stream",
     "text": [
      "           newcases    cumcases  newpcr       cumpcr\n",
      "2020-01-03      0.0         0.0     0.0         26.0\n",
      "2020-01-04      0.0         0.0     0.0        161.0\n",
      "2020-01-05      0.0         0.0     0.0        463.0\n",
      "2020-01-06      0.0         0.0     0.0        521.0\n",
      "2020-01-07      0.0         0.0     0.0        659.0\n",
      "...             ...         ...     ...          ...\n",
      "2022-10-15   5827.0  20112340.0  1167.0  217735774.0\n",
      "2022-10-16   7080.0  20119420.0  1128.0  217742588.0\n",
      "2022-10-17   8634.0  20128054.0  1995.0  217746254.0\n",
      "2022-10-18   6821.0  20134875.0  1387.0  217762033.0\n",
      "2022-10-19   4446.0  20139321.0   375.0  217777535.0\n",
      "\n",
      "[1021 rows x 4 columns]\n"
     ]
    }
   ],
   "source": [
    "#potentially delete this cell\n",
    "def wrangle_data(data):\n",
    "    with open(\"testingdata.json\", \"rt\") as INFILE:\n",
    "        data=json.load(INFILE)\n",
    "    datalist=data[\"data\"]\n",
    "    #print(datalist)\n",
    "    dates=[dictionary[\"date\"] for dictionary in datalist]\n",
    "    dates.sort()\n",
    "    \n",
    "    def parse_date(datestring):\n",
    "        \"\"\"Convert a date string into a pandas datetime object\"\"\"\n",
    "        return pd.to_datetime(datestring, format=\"%Y-%m-%d\")\n",
    "    \n",
    "    startdate=parse_date(dates[0])\n",
    "    enddate=parse_date(dates[-1])\n",
    "    index=pd.date_range(startdate, enddate, freq=\"D\")\n",
    "    testdatadf=pd.DataFrame(index=index, columns=[\"newcases\", \"cumcases\", \"newpcr\", \"cumpcr\"])\n",
    "    #print(testdatadf)\n",
    "    for entry in datalist: #each entry is a dictionary with new and cum data for PCR and cases\n",
    "        date=parse_date(entry[\"date\"])\n",
    "        for column in [\"newcases\", \"cumcases\", \"newpcr\", \"cumpcr\"]:\n",
    "        #first check to make sure there is nothing in there in case data was duplicated\n",
    "            if pd.isna(testdatadf.loc[date,column]):\n",
    "                #replace all none with 0 in our data\n",
    "                value=float(entry[column]) if entry[column]!=None else 0.0\n",
    "                # .loc is how you access a specific location in the dataframe\n",
    "                #put index,column in a single set of []\n",
    "                testdatadf.loc[date, column]=value\n",
    "    testdatadf.fillna(0.0, inplace=True)\n",
    "    return testdatadf\n",
    "            \n",
    "testdatadf=wrangle_data(data)\n",
    "print(testdatadf)"
   ]
  },
  {
   "cell_type": "markdown",
   "id": "f1b86ad2-5e51-4a6e-9c84-b794948b59df",
   "metadata": {},
   "source": [
    "## Refresh the Data\n",
    "To refresh the data from PHE press the button below and the graph will update with the new values."
   ]
  },
  {
   "cell_type": "code",
   "execution_count": 38,
   "id": "0cae2093-d778-4a3d-858c-d5883739b2b1",
   "metadata": {},
   "outputs": [
    {
     "data": {
      "application/vnd.jupyter.widget-view+json": {
       "model_id": "a15f85620d90445b813c33396328d1b1",
       "version_major": 2,
       "version_minor": 0
      },
      "text/plain": [
       "Button(button_style='success', description='Refresh data', icon='download', style=ButtonStyle(), tooltip='Clic…"
      ]
     },
     "metadata": {},
     "output_type": "display_data"
    }
   ],
   "source": [
    "def access_api(button):\n",
    "    #this code polls the API\n",
    "    from uk_covid19 import Cov19API\n",
    "    filters = [\n",
    "    'areaType=nation',\n",
    "    'areaName=England'\n",
    "    ]\n",
    "\n",
    "\n",
    "    # values here are the names of the PHE metrics\n",
    "    structure = {\n",
    "        \"date\": \"date\",\n",
    "        \"newcases\": \"newCasesBySpecimenDate\", #new cases by Specimen date\n",
    "        \"cumcases\": \"cumCasesBySpecimenDate\", #cumulative cases by specimen date\n",
    "        \"newpcr\": \"newCasesPCROnlyBySpecimenDate\", #new cases by PCR by specimen date\n",
    "        \"cumpcr\": \"cumPCRTestsBySpecimenDate\" #cumulative cases by PCR by specimen date\n",
    "    }\n",
    "\n",
    "    api = Cov19API(filters=filters, structure=structure)\n",
    "    return {api}\n",
    "\n",
    "def api_button_callback(button):\n",
    "    apidata=access_api()\n",
    "    global df\n",
    "    df=wrangle_data(apidata)\n",
    "    refresh_graph()\n",
    "    #testingdata=api.get_json()\n",
    "    apibutton.icon=\"check\"\n",
    "    #apibutton.disabled=True\n",
    "    \n",
    "apibutton=wdg.Button(\n",
    "    description=\"Refresh data\",\n",
    "    disabled=False,\n",
    "    button_style=\"success\",\n",
    "    tooltip=\"Click to download current Public Health England data.\",\n",
    "    icon=\"download\"\n",
    ")\n",
    "\n",
    "apibutton.on_click(access_api)\n",
    "\n",
    "# this is an iPython function that generalises print for Jupyter Notebooks; we use it to \n",
    "# display the widgets\n",
    "display(apibutton)"
   ]
  },
  {
   "cell_type": "code",
   "execution_count": 39,
   "id": "10c53ff1-45f8-48aa-aeaf-e4e0afe3f558",
   "metadata": {},
   "outputs": [],
   "source": [
    "def refresh_graph():\n",
    "    current=graph.value\n",
    "    if current==graph.options[0]:\n",
    "        other=graph.options[1]\n",
    "    else:\n",
    "        other=graph.options[0]\n",
    "    graph.value=other\n",
    "    graph.value=current"
   ]
  },
  {
   "cell_type": "markdown",
   "id": "2db007ec-50f6-4cf3-96bd-e5d190eb81be",
   "metadata": {},
   "source": [
    "## Graph comparing number of Covid cases compared to number of PCR tests\n",
    "\n",
    "This graph demonstrates the relationship between the number of new Covid 19 cases and the number of PCR tests. This graph also allows the user to compare the cumulative data versus the new data to compare trends in both."
   ]
  },
  {
   "cell_type": "code",
   "execution_count": 40,
   "id": "5fa21a5d-d2bf-47e6-b6de-163c34d91167",
   "metadata": {},
   "outputs": [
    {
     "data": {
      "application/vnd.jupyter.widget-view+json": {
       "model_id": "a5d6e98d83044f059bd8486cf13d64a2",
       "version_major": 2,
       "version_minor": 0
      },
      "text/plain": [
       "HBox(children=(SelectMultiple(description='Stats:', index=(0, 1, 2, 3), options=('newcases', 'cumcases', 'newp…"
      ]
     },
     "metadata": {},
     "output_type": "display_data"
    },
    {
     "data": {
      "application/vnd.jupyter.widget-view+json": {
       "model_id": "f637bb8cf540450cb416b3fa19cc2299",
       "version_major": 2,
       "version_minor": 0
      },
      "text/plain": [
       "Output()"
      ]
     },
     "metadata": {},
     "output_type": "display_data"
    }
   ],
   "source": [
    "series=wdg.SelectMultiple(\n",
    "    options=[\"newcases\", \"cumcases\", \"newpcr\", \"cumpcr\"],\n",
    "    value=[\"newcases\", \"cumcases\", \"newpcr\", \"cumpcr\"],\n",
    "    rows=4,\n",
    "    description=\"Stats:\",\n",
    "    disabled=False\n",
    ")\n",
    "\n",
    "scale=wdg.RadioButtons(\n",
    "    options=[\"linear\", \"log\"],\n",
    "    description=\"Scale:\",\n",
    "    disabled=False\n",
    ")\n",
    "\n",
    "controls=wdg.HBox([series, scale])\n",
    "\n",
    "def testdata_graph(gcols, gscale):\n",
    "    if gscale==\"linear\":\n",
    "        logscale=False\n",
    "    else:\n",
    "        logscale=True\n",
    "    ncols=len(gcols)\n",
    "    if ncols>0:\n",
    "        testdatadf[list(gcols)].plot(logy=logscale)\n",
    "        plt.show()\n",
    "    else:\n",
    "        print(\"Click to select data for graph\")\n",
    "        print(\"(CTRL-Click to select more than one category)\")\n",
    "\n",
    "graph=wdg.interactive_output(testdata_graph, {\"gcols\": series, \"gscale\": scale})\n",
    "\n",
    "display(controls, graph)"
   ]
  },
  {
   "cell_type": "markdown",
   "id": "f5d65653-1018-4eda-a60b-ce9e47d20c51",
   "metadata": {},
   "source": [
    "**Maddy Creach** *Based on UK Government [data](https://coronavirus.data.gov.uk/) published by [Public Health England](https://www.gov.uk/government/organisations/public-health-england).*"
   ]
  },
  {
   "cell_type": "code",
   "execution_count": null,
   "id": "2160f2f1-c472-4a8a-926b-d72c9ec25647",
   "metadata": {},
   "outputs": [],
   "source": []
  }
 ],
 "metadata": {
  "kernelspec": {
   "display_name": "Python 3 (ipykernel)",
   "language": "python",
   "name": "python3"
  },
  "language_info": {
   "codemirror_mode": {
    "name": "ipython",
    "version": 3
   },
   "file_extension": ".py",
   "mimetype": "text/x-python",
   "name": "python",
   "nbconvert_exporter": "python",
   "pygments_lexer": "ipython3",
   "version": "3.10.6"
  }
 },
 "nbformat": 4,
 "nbformat_minor": 5
}
